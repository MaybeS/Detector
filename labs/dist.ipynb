{
 "cells": [
  {
   "cell_type": "code",
   "execution_count": 1,
   "metadata": {},
   "outputs": [],
   "source": [
    "from pathlib import Path"
   ]
  },
  {
   "cell_type": "code",
   "execution_count": 2,
   "metadata": {},
   "outputs": [],
   "source": [
    "import numpy as np\n",
    "import pandas as pd"
   ]
  },
  {
   "cell_type": "code",
   "execution_count": 5,
   "metadata": {},
   "outputs": [],
   "source": [
    " = sorted(Path('/home/jiun/datasets/amano/nvr-warp/results/ssd-vgg16').glob('*.txt'))"
   ]
  },
  {
   "cell_type": "code",
   "execution_count": null,
   "metadata": {},
   "outputs": [],
   "source": []
  },
  {
   "cell_type": "code",
   "execution_count": 15,
   "metadata": {},
   "outputs": [],
   "source": [
    "center_total = np.empty((0, 2), dtype=np.int)\n",
    "center_positive = np.empty((0, 2), dtype=np.int)"
   ]
  },
  {
   "cell_type": "code",
   "execution_count": 17,
   "metadata": {},
   "outputs": [
    {
     "ename": "NameError",
     "evalue": "name 'pd_mask' is not defined",
     "output_type": "error",
     "traceback": [
      "\u001b[0;31m---------------------------------------------------------------------------\u001b[0m",
      "\u001b[0;31mNameError\u001b[0m                                 Traceback (most recent call last)",
      "\u001b[0;32m<ipython-input-17-8d1d9e9b3746>\u001b[0m in \u001b[0;36m<module>\u001b[0;34m\u001b[0m\n\u001b[1;32m      4\u001b[0m \u001b[0;34m\u001b[0m\u001b[0m\n\u001b[1;32m      5\u001b[0m     \u001b[0mcenter_total\u001b[0m \u001b[0;34m=\u001b[0m \u001b[0mnp\u001b[0m\u001b[0;34m.\u001b[0m\u001b[0mconcatenate\u001b[0m\u001b[0;34m(\u001b[0m\u001b[0;34m(\u001b[0m\u001b[0mcenter_total\u001b[0m\u001b[0;34m,\u001b[0m \u001b[0mcenters\u001b[0m\u001b[0;34m)\u001b[0m\u001b[0;34m)\u001b[0m\u001b[0;34m\u001b[0m\u001b[0;34m\u001b[0m\u001b[0m\n\u001b[0;32m----> 6\u001b[0;31m     \u001b[0mcenter_positive\u001b[0m \u001b[0;34m=\u001b[0m \u001b[0mnp\u001b[0m\u001b[0;34m.\u001b[0m\u001b[0mconcatenate\u001b[0m\u001b[0;34m(\u001b[0m\u001b[0;34m(\u001b[0m\u001b[0mcenter_positive\u001b[0m\u001b[0;34m,\u001b[0m \u001b[0mcenters\u001b[0m\u001b[0;34m[\u001b[0m\u001b[0mpd_mask\u001b[0m\u001b[0;34m]\u001b[0m\u001b[0;34m)\u001b[0m\u001b[0;34m)\u001b[0m\u001b[0;34m\u001b[0m\u001b[0;34m\u001b[0m\u001b[0m\n\u001b[0m",
      "\u001b[0;31mNameError\u001b[0m: name 'pd_mask' is not defined"
     ]
    }
   ],
   "source": [
    "for file in src:\n",
    "    pred = pd.read_csv(str(file), header=None).values[:, 2:] * 300\n",
    "    centers = np.stack((pred[:, ::2].mean(-1), pred[:, 1::2].mean(-1))).T.astype(np.int)\n",
    "    \n",
    "    center_total = np.concatenate((center_total, centers))\n",
    "    center_positive = np.concatenate((center_positive, centers[pd_mask]))"
   ]
  },
  {
   "cell_type": "code",
   "execution_count": 19,
   "metadata": {},
   "outputs": [],
   "source": [
    "evaluator = Evaluator(num_classes=2)"
   ]
  },
  {
   "cell_type": "code",
   "execution_count": null,
   "metadata": {},
   "outputs": [],
   "source": []
  },
  {
   "cell_type": "code",
   "execution_count": null,
   "metadata": {},
   "outputs": [],
   "source": []
  },
  {
   "cell_type": "code",
   "execution_count": null,
   "metadata": {},
   "outputs": [],
   "source": []
  },
  {
   "cell_type": "code",
   "execution_count": 18,
   "metadata": {},
   "outputs": [],
   "source": [
    "from typing import Tuple, Union\n",
    "from collections import defaultdict\n",
    "\n",
    "import torch\n",
    "import numpy as np\n",
    "\n",
    "\n",
    "def compute_iou_(a, b):\n",
    "    area = (b[:, 2] - b[:, 0]) * (b[:, 3] - b[:, 1])\n",
    "\n",
    "    iw = torch.min(torch.unsqueeze(a[:, 2], dim=1), b[:, 2]) - torch.max(torch.unsqueeze(a[:, 0], 1), b[:, 0])\n",
    "    ih = torch.min(torch.unsqueeze(a[:, 3], dim=1), b[:, 3]) - torch.max(torch.unsqueeze(a[:, 1], 1), b[:, 1])\n",
    "\n",
    "    iw = torch.clamp(iw, min=0)\n",
    "    ih = torch.clamp(ih, min=0)\n",
    "\n",
    "    ua = torch.unsqueeze((a[:, 2] - a[:, 0]) * (a[:, 3] - a[:, 1]), dim=1) + area - iw * ih\n",
    "\n",
    "    ua = torch.clamp(ua, min=1e-8)\n",
    "\n",
    "    intersection = iw * ih\n",
    "\n",
    "    IoU = intersection / ua\n",
    "\n",
    "    return IoU\n",
    "\n",
    "\n",
    "def compute_iou(box, boxes, box_area, boxes_area):\n",
    "    y1 = np.maximum(box[0], boxes[:, 0])\n",
    "    y2 = np.minimum(box[2], boxes[:, 2])\n",
    "    x1 = np.maximum(box[1], boxes[:, 1])\n",
    "    x2 = np.minimum(box[3], boxes[:, 3])\n",
    "    intersection = np.maximum(x2 - x1, 0) * np.maximum(y2 - y1, 0)\n",
    "    union = box_area + boxes_area[:] - intersection[:]\n",
    "    iou = intersection / union\n",
    "    return iou\n",
    "\n",
    "\n",
    "def compute_overlaps(boxes1, boxes2):\n",
    "    area1 = (boxes1[:, 2] - boxes1[:, 0]) * (boxes1[:, 3] - boxes1[:, 1])\n",
    "    area2 = (boxes2[:, 2] - boxes2[:, 0]) * (boxes2[:, 3] - boxes2[:, 1])\n",
    "\n",
    "    overlaps = np.zeros((boxes1.shape[0], boxes2.shape[0]))\n",
    "    for i in range(overlaps.shape[1]):\n",
    "        overlaps[:, i] = compute_iou(boxes2[i], boxes1, area2[i], area1)\n",
    "    return overlaps\n",
    "\n",
    "\n",
    "class Evaluator:\n",
    "    def __init__(self, num_classes: int, sample_patch: int = 11, threshold: float = .5,\n",
    "                 distribution: bool = False):\n",
    "        self.num_classes = num_classes\n",
    "        self.patch = np.linspace(0, 1, sample_patch)\n",
    "        self.threshold = threshold\n",
    "        self.distribution = distribution\n",
    "        self.center_total = np.empty((0, 2), dtype=np.int)\n",
    "        self.center_positive = np.empty((0, 2), dtype=np.int)\n",
    "\n",
    "        self.TP, self.FP, self.FN = np.zeros((3, sample_patch, num_classes), dtype=np.uint32)\n",
    "        self.gt_counts, self.pd_counts = np.zeros((2, num_classes), dtype=np.uint32)\n",
    "\n",
    "    def update(self, predictions: Tuple[np.ndarray, Union[np.ndarray, None], np.ndarray, Union[np.ndarray, None]],\n",
    "               groundtruths: Tuple[np.ndarray, np.ndarray, Union[np.ndarray, None]]) \\\n",
    "            -> None:\n",
    "        \"\"\"Update predictions and groundtruths for each frames.\n",
    "\n",
    "        :param predictions: contains (class_ids, scores, bounding_boxes, masks)\n",
    "        :param groundtruths: contains (class_ids, bounding_boxes, masks)\n",
    "        :return:\n",
    "        \"\"\"\n",
    "        pd_class_ids, pd_scores, pd_bboxes, pd_masks = predictions\n",
    "        gt_class_ids, gt_bboxes, gt_masks = groundtruths\n",
    "\n",
    "        if pd_scores is None:\n",
    "            pd_scores = np.ones_like(pd_class_ids)\n",
    "\n",
    "        if pd_bboxes.size > 0:\n",
    "            iou = self.compute_iou(pd_bboxes, gt_bboxes, self.threshold)\n",
    "        else:\n",
    "            iou = np.empty((0, 0))\n",
    "\n",
    "        for klass in range(self.num_classes):\n",
    "            gt_number = np.sum(gt_class_ids == klass)\n",
    "\n",
    "            self.gt_counts[klass] += gt_number\n",
    "            self.pd_counts[klass] += (pd_class_ids == klass).sum()\n",
    "\n",
    "            for p, patch in enumerate(self.patch):\n",
    "                pd_mask = np.logical_and(pd_class_ids == klass, pd_scores >= patch)\n",
    "                pd_number = np.sum(pd_mask)\n",
    "\n",
    "                if pd_number == 0:\n",
    "                    self.FN[p][klass] += gt_number\n",
    "                    continue\n",
    "\n",
    "                # X, Y distribution store\n",
    "                if self.distribution:\n",
    "                    boxes = pd_bboxes * 100\n",
    "                    centers = np.stack((boxes[:, ::2].mean(-1), boxes[:, 1::2].mean(-1))).T.astype(np.int)\n",
    "                    self.center_total = np.concatenate((self.center_total, centers))\n",
    "                    self.center_positive = np.concatenate((self.center_positive, centers[pd_mask]))\n",
    "\n",
    "                true_positive = np.sum(iou[pd_mask][:, gt_class_ids == klass].any(axis=0))\n",
    "\n",
    "                self.TP[p][klass] += true_positive\n",
    "                self.FP[p][klass] += pd_number - true_positive\n",
    "                self.FN[p][klass] += gt_number - true_positive\n",
    "\n",
    "    @staticmethod\n",
    "    def compute_iou(tar_boxes: np.ndarray, src_boxes: np.ndarray, threshold: float) \\\n",
    "            -> np.ndarray:\n",
    "        iou = compute_overlaps(tar_boxes, src_boxes) >= threshold\n",
    "        axis, argm = np.arange(np.size(iou, 0)), iou.argmax(axis=1)\n",
    "        outputs = np.zeros_like(iou)\n",
    "        outputs[axis, argm] = iou[axis, argm]\n",
    "        return outputs >= threshold\n",
    "\n",
    "    @property\n",
    "    def precision(self) \\\n",
    "            -> np.ndarray:\n",
    "        return np.nan_to_num(self.TP / (self.TP + self.FP)).mean(axis=0)\n",
    "\n",
    "    @property\n",
    "    def recall(self) \\\n",
    "            -> np.ndarray:\n",
    "        return np.nan_to_num(self.TP / (self.TP + self.FN)).mean(axis=0)\n",
    "\n",
    "    @property\n",
    "    def mAP(self) \\\n",
    "            -> np.ndarray:\n",
    "        prev_recall, ap = np.zeros((2, self.num_classes))\n",
    "\n",
    "        for precision, recall in zip(self.precision[::-1], self.recall[::-1]):\n",
    "            ap += precision * (recall - prev_recall)\n",
    "            prev_recall = recall\n",
    "\n",
    "        return ap\n",
    "\n",
    "    def dump(self) \\\n",
    "            -> Tuple[np.ndarray, np.ndarray, np.ndarray]:\n",
    "        return self.mAP, self.precision, self.recall\n"
   ]
  },
  {
   "cell_type": "code",
   "execution_count": null,
   "metadata": {},
   "outputs": [],
   "source": []
  }
 ],
 "metadata": {
  "kernelspec": {
   "display_name": "Python 3",
   "language": "python",
   "name": "python3"
  },
  "language_info": {
   "codemirror_mode": {
    "name": "ipython",
    "version": 3
   },
   "file_extension": ".py",
   "mimetype": "text/x-python",
   "name": "python",
   "nbconvert_exporter": "python",
   "pygments_lexer": "ipython3",
   "version": "3.7.6"
  }
 },
 "nbformat": 4,
 "nbformat_minor": 4
}
