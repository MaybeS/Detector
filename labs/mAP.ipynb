{
 "cells": [
  {
   "cell_type": "code",
   "execution_count": 2,
   "metadata": {},
   "outputs": [],
   "source": [
    "import sys\n",
    "sys.path.append('..')"
   ]
  },
  {
   "cell_type": "code",
   "execution_count": 3,
   "metadata": {},
   "outputs": [],
   "source": [
    "from pathlib import Path"
   ]
  },
  {
   "cell_type": "code",
   "execution_count": 31,
   "metadata": {},
   "outputs": [],
   "source": [
    "import cv2\n",
    "import numpy as np\n",
    "import pandas as pd"
   ]
  },
  {
   "cell_type": "code",
   "execution_count": 5,
   "metadata": {},
   "outputs": [],
   "source": [
    "from lib.evaluate import Evaluator"
   ]
  },
  {
   "cell_type": "code",
   "execution_count": 167,
   "metadata": {},
   "outputs": [],
   "source": [
    "images = sorted(Path('/home/jiun/datasets/amano/nvr-warp/test/images').glob('*.jpg'))\n",
    "gts = sorted(Path('/home/jiun/datasets/amano/nvr-warp/test/annotations').glob('*.txt'))\n",
    "dts = sorted(Path('/home/jiun/datasets/amano/nvr-warp/results/pretrained').glob('*.txt'))\n",
    "rts = sorted(Path('/home/jiun/datasets/amano/nvr-warp/results/pretrained-reversed').glob('*.txt'))"
   ]
  },
  {
   "cell_type": "code",
   "execution_count": 168,
   "metadata": {},
   "outputs": [],
   "source": [
    "assert len(gts) == len(dts) == len(rts)"
   ]
  },
  {
   "cell_type": "code",
   "execution_count": 169,
   "metadata": {},
   "outputs": [],
   "source": [
    "evaluator = Evaluator(num_classes=2)\n",
    "counts = 0\n",
    "gcounts = 0"
   ]
  },
  {
   "cell_type": "code",
   "execution_count": 170,
   "metadata": {},
   "outputs": [],
   "source": [
    "for index, (gt, dt, rt) in enumerate(zip(gts, dts, rts)):\n",
    "    g = pd.read_csv(str(gt), header=None).values\n",
    "    d = pd.read_csv(str(dt), header=None).values\n",
    "    r = pd.read_csv(str(rt), header=None).values\n",
    "    \n",
    "    target_mask = d[:, 0] == 7\n",
    "    conf_mask = d[:, 1] > .3\n",
    "    dd = d[target_mask & conf_mask]\n",
    "\n",
    "    target_mask = r[:, 0] == 7\n",
    "    conf_mask = r[:, 1] > .3\n",
    "    rr = r[target_mask & conf_mask]\n",
    "    \n",
    "    rr[:, 3::2] = 1080 - rr[:, 3::2]\n",
    "    \n",
    "    boxes = np.concatenate((dd, rr))\n",
    "    \n",
    "    counts += np.size(boxes, 0)\n",
    "    gcounts += np.size(g, 0)\n",
    "    \n",
    "#     image = cv2.imread(str(images[index]))\n",
    "    \n",
    "#     for x, y, w, h in boxes[:, 2:]:\n",
    "#         cv2.rectangle(image, (int(x), int(y)), (int(w), int(h)), (255, 0, 0), 1)\n",
    "        \n",
    "#     for x, y, w, h in g:\n",
    "#         cv2.rectangle(image, (int(x), int(y)), (int(w), int(h)), (0, 255, 0), 1)\n",
    "    \n",
    "#     show(image)\n",
    "    \n",
    "    evaluator.update((\n",
    "        np.ones(np.size(boxes, 0), dtype=np.int),\n",
    "        boxes[:, 1].astype(np.float32),\n",
    "        boxes[:, 2:].astype(np.float32),\n",
    "        None,\n",
    "    ), (\n",
    "        np.ones(np.size(g, 0), dtype=np.int),\n",
    "        g.astype(np.float32),\n",
    "        None,\n",
    "    ))"
   ]
  },
  {
   "cell_type": "code",
   "execution_count": 171,
   "metadata": {},
   "outputs": [
    {
     "name": "stdout",
     "output_type": "stream",
     "text": [
      "[0.04345392 0.04345392]\n",
      "9485\n"
     ]
    }
   ],
   "source": [
    "# nvr-warp\n",
    "print(evaluator.mAP)\n",
    "print(counts)"
   ]
  },
  {
   "cell_type": "code",
   "execution_count": 161,
   "metadata": {},
   "outputs": [
    {
     "name": "stdout",
     "output_type": "stream",
     "text": [
      "[0.00052445 0.00052445]\n",
      "6582\n"
     ]
    }
   ],
   "source": [
    "# nvr-warp-2pi\n",
    "print(evaluator.mAP)\n",
    "print(counts)"
   ]
  },
  {
   "cell_type": "code",
   "execution_count": 166,
   "metadata": {},
   "outputs": [
    {
     "name": "stdout",
     "output_type": "stream",
     "text": [
      "[0.00793071 0.00793071]\n",
      "5807\n"
     ]
    }
   ],
   "source": [
    "# nvr-warp-4pi\n",
    "print(evaluator.mAP)\n",
    "print(counts)"
   ]
  },
  {
   "cell_type": "code",
   "execution_count": null,
   "metadata": {},
   "outputs": [],
   "source": []
  },
  {
   "cell_type": "code",
   "execution_count": 33,
   "metadata": {},
   "outputs": [],
   "source": [
    "from PIL import Image\n",
    "from IPython.display import display\n",
    "\n",
    "def show(ary):\n",
    "    display(Image.fromarray(ary))"
   ]
  },
  {
   "cell_type": "code",
   "execution_count": null,
   "metadata": {},
   "outputs": [],
   "source": []
  }
 ],
 "metadata": {
  "kernelspec": {
   "display_name": "Python 3",
   "language": "python",
   "name": "python3"
  },
  "language_info": {
   "codemirror_mode": {
    "name": "ipython",
    "version": 3
   },
   "file_extension": ".py",
   "mimetype": "text/x-python",
   "name": "python",
   "nbconvert_exporter": "python",
   "pygments_lexer": "ipython3",
   "version": "3.7.7"
  }
 },
 "nbformat": 4,
 "nbformat_minor": 4
}
