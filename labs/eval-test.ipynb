{
 "cells": [
  {
   "cell_type": "code",
   "execution_count": null,
   "metadata": {},
   "outputs": [],
   "source": [
    "import sys\n",
    "sys.path.append('..')"
   ]
  },
  {
   "cell_type": "code",
   "execution_count": null,
   "metadata": {},
   "outputs": [],
   "source": [
    "from pathlib import Path"
   ]
  },
  {
   "cell_type": "code",
   "execution_count": null,
   "metadata": {},
   "outputs": [],
   "source": [
    "import pandas as pd\n",
    "import numpy as np\n",
    "import cv2"
   ]
  },
  {
   "cell_type": "code",
   "execution_count": null,
   "metadata": {},
   "outputs": [],
   "source": [
    "from lib.evaluate import Evaluator"
   ]
  },
  {
   "cell_type": "code",
   "execution_count": null,
   "metadata": {},
   "outputs": [],
   "source": [
    "from PIL import Image\n",
    "from IPython.display import display\n",
    "\n",
    "def show(ary):\n",
    "    display(Image.fromarray(ary))"
   ]
  },
  {
   "cell_type": "code",
   "execution_count": null,
   "metadata": {},
   "outputs": [],
   "source": [
    "src = sorted(Path('/home/jiun/datasets/amano/cylinder/refine-annot/train/annotations').glob('*.txt'))"
   ]
  },
  {
   "cell_type": "code",
   "execution_count": null,
   "metadata": {},
   "outputs": [],
   "source": [
    "detections = sorted(Path('/home/jiun/datasets/weights/train-self/test-vgg16/pseudo').iterdir())"
   ]
  },
  {
   "cell_type": "code",
   "execution_count": null,
   "metadata": {},
   "outputs": [],
   "source": [
    "image = cv2.imread('/home/jiun/datasets/amano/cylinder/refine-annot/train/images/nvr001_10_CT_20190110035022+1.jpg')"
   ]
  },
  {
   "cell_type": "code",
   "execution_count": null,
   "metadata": {},
   "outputs": [],
   "source": [
    "improt torch"
   ]
  },
  {
   "cell_type": "code",
   "execution_count": null,
   "metadata": {},
   "outputs": [],
   "source": []
  },
  {
   "cell_type": "code",
   "execution_count": null,
   "metadata": {},
   "outputs": [],
   "source": [
    "for detection in detections[::32]:\n",
    "    det = sorted(detection.glob('*.txt'))\n",
    "    \n",
    "    evaluator = Evaluator(n_class=2)\n",
    "    \n",
    "    img = image.copy()\n",
    "    \n",
    "    for index, (gtt, dtt) in enumerate(zip(src, det)):\n",
    "        gt = pd.read_csv(str(gtt), header=None).values\n",
    "        dt = pd.read_csv(str(dtt), header=None).values\n",
    "        \n",
    "        if index == 0:\n",
    "            for x, y, w, h in gt:\n",
    "                cv2.rectangle(img, (int(x), int(y)), (int(w), int(h)), (0, 0, 255), 3)\n",
    "                \n",
    "            for x, y, w, h in dt:\n",
    "                cv2.rectangle(img, (int(x), int(y)), (int(w), int(h)), (255, 0, 0), 3)\n",
    "        \n",
    "        evaluator.update((\n",
    "            np.ones(np.size(dt, 0), dtype=np.int),\n",
    "            np.ones(np.size(dt, 0), dtype=np.float32),\n",
    "            dt,\n",
    "            None,\n",
    "        ), (\n",
    "            np.ones(np.size(gt, 0), dtype=np.int),\n",
    "            gt.astype(np.float32),\n",
    "            None,\n",
    "        ))\n",
    "    \n",
    "    for klass, (ap, precision, recall) in enumerate(zip(*evaluator.dump())):\n",
    "        if klass == 0:\n",
    "            continue\n",
    "        \n",
    "        print(f'Iter {detection.stem}: {ap:.4f}')\n",
    "        show(img)"
   ]
  },
  {
   "cell_type": "code",
   "execution_count": null,
   "metadata": {},
   "outputs": [],
   "source": []
  }
 ],
 "metadata": {
  "kernelspec": {
   "display_name": "Python 3",
   "language": "python",
   "name": "python3"
  },
  "language_info": {
   "codemirror_mode": {
    "name": "ipython",
    "version": 3
   },
   "file_extension": ".py",
   "mimetype": "text/x-python",
   "name": "python",
   "nbconvert_exporter": "python",
   "pygments_lexer": "ipython3",
   "version": "3.7.3"
  }
 },
 "nbformat": 4,
 "nbformat_minor": 4
}
